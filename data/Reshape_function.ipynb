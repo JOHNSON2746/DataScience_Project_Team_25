{
 "cells": [
  {
   "cell_type": "code",
   "execution_count": null,
   "id": "96a9e43e",
   "metadata": {},
   "outputs": [],
   "source": [
    "import pandas as pd\n",
    "from collections import defaultdict\n",
    "\n",
    "table1 = \"Table 1 - Jobs and employment income by sex, age, business characteristics and geography, 2017-18 to 2021-22.xlsx\"\n",
    "sheets = pd.read_excel(table1, sheet_name=None)\n",
    "\n",
    "for sheet_name, df in sheets.items():\n",
    "    if sheet_name == \"Table 1.1\":\n",
    "        table1_1 = df\n",
    "    elif sheet_name == \"Table 1.2\":\n",
    "        table1_2 = df\n",
    "    elif sheet_name == \"Table 1.3\":\n",
    "        table1_3 = df\n",
    "    elif sheet_name == \"Table 1.4\":\n",
    "        table1_4 = df\n",
    "    elif sheet_name == \"Table 1.5\":\n",
    "        table1_5 = df"
   ]
  },
  {
   "cell_type": "code",
   "execution_count": null,
   "id": "966491ee",
   "metadata": {},
   "outputs": [],
   "source": [
    "def reshape_table(table, feature1, feature2):\n",
    "\tfeature1_index = table[table.iloc[:, 0].astype(str).str.contains(feature1, na=False)].index.tolist()\n",
    "\tfeature2_index = table[table.iloc[:, 0].astype(str).str.contains(feature2, na=False)].index.tolist()\n",
    "\n",
    "\tnum_class = feature2_index[0] - feature1_index[0] - 1 \n",
    "\tnum_years = 5\n",
    "\tmax_size = num_class * 10\n",
    "\n",
    "\t# create new df\n",
    "\tsex_list = [\"Male\"] * 5 + [\"Female\"] * 5\n",
    "\tsex_repeated = (sex_list * (max_size // 10))\n",
    "\tyears = [2017, 2018, 2019, 2020, 2021]\n",
    "\tyear_repeated = (years * (max_size // 5))\n",
    "\n",
    "\tclass_list = []\n",
    "\tfor i in range(num_class):\n",
    "\t\tclass_list.append(table1_1.iloc[feature1_index[0] + 1 + i, 0])\n",
    "\tclass_repeated = [feature_class for feature_class in class_list for _ in range(10)]\n",
    "\treshape_df = pd.DataFrame({\"SEX\": sex_repeated, \"YEAR\": year_repeated, feature1: class_repeated})\n",
    "\n",
    "\t# read number of jobs and income\n",
    "\tNum_jobs = []\n",
    "\tIncome_list = []\n",
    "\tfor i in range(num_class):\n",
    "\t\tfor j in range(num_years*2):\n",
    "\t\t\tNum_jobs.append(table.iloc[feature1_index[0] + 1 + i, j + 2])\n",
    "\t\t\tIncome_list.append(table.iloc[feature1_index[0] + 1 + i, j + 2 + num_years*3])\n",
    "\n",
    "\treshape_df[\"NUM JOBS\"] = Num_jobs\n",
    "\treshape_df[\"INCOME\"] = Income_list\n",
    "\n",
    "\treturn reshape_df"
   ]
  },
  {
   "cell_type": "code",
   "execution_count": 130,
   "id": "a418cba1",
   "metadata": {},
   "outputs": [],
   "source": [
    "df_age = reshape_table(table1_1, \"Age group\", \"Industry\")\n",
    "df_industry = reshape_table(table1_1, \"Industry\", \"Institutional sector\")\n",
    "df_institutional = reshape_table(table1_1, \"Institutional sector\", \"Type of legal organisation\")\n",
    "df_legal_org = reshape_table(table1_1, \"Type of legal organisation\", \"Employment size\")\n",
    "df_employment_size = reshape_table(table1_1, \"Employment size\", \"Job duration\")\n",
    "df_duration = reshape_table(table1_1, \"Job duration\", \"Total\")\n",
    "\n",
    "df_age.to_csv(\"table1_gender_age.csv\", index=False, encoding=\"utf-8\")\n",
    "df_industry.to_csv(\"table1_gender_industry.csv\", index=False, encoding=\"utf-8\")\n",
    "df_institutional.to_csv(\"table1_gender_institutional.csv\", index=False, encoding=\"utf-8\")\n",
    "df_legal_org.to_csv(\"table1_gender_legal_organisation.csv\", index=False, encoding=\"utf-8\")\n",
    "df_employment_size.to_csv(\"table1_gender_employment_size.csv\", index=False, encoding=\"utf-8\")\n",
    "df_duration.to_csv(\"table1_gender_job_duration.csv\", index=False, encoding=\"utf-8\")"
   ]
  }
 ],
 "metadata": {
  "kernelspec": {
   "display_name": "base",
   "language": "python",
   "name": "python3"
  },
  "language_info": {
   "codemirror_mode": {
    "name": "ipython",
    "version": 3
   },
   "file_extension": ".py",
   "mimetype": "text/x-python",
   "name": "python",
   "nbconvert_exporter": "python",
   "pygments_lexer": "ipython3",
   "version": "3.12.7"
  }
 },
 "nbformat": 4,
 "nbformat_minor": 5
}
