{
 "cells": [
  {
   "cell_type": "markdown",
   "id": "22e818d0",
   "metadata": {},
   "source": [
    "note: 假设数值列从'Sex'之后开始"
   ]
  },
  {
   "cell_type": "code",
   "execution_count": 21,
   "id": "9556567e",
   "metadata": {},
   "outputs": [],
   "source": [
    "import pandas as pd\n",
    "\n",
    "def extract_feature_tables_auto(excel_path, sheet_name=0, skiprows=6, feature_col='Feature', sex_col='Sex'):\n",
    "    df = pd.read_excel(excel_path, sheet_name=sheet_name, skiprows=skiprows)\n",
    "    cols = df.columns.tolist()\n",
    "    # 兼容 State Name/State name\n",
    "    state_col = None\n",
    "    for candidate in [\"State Name\", \"State name\"]:\n",
    "        if candidate in cols:\n",
    "            state_col = candidate\n",
    "            break\n",
    "    if state_col is None:\n",
    "        raise ValueError(\"未找到 State Name 或 State name 列\")\n",
    "    class_idx = cols.index(feature_col)\n",
    "    sex_idx = cols.index(sex_col)\n",
    "    value_cols = cols[max(class_idx, sex_idx)+1:]\n",
    "    selected_cols = [feature_col, sex_col, state_col] + value_cols\n",
    "    result_df = df[selected_cols].copy()\n",
    "    result_df = result_df.dropna(how='all').reset_index(drop=True)\n",
    "    for col in value_cols:\n",
    "        result_df = result_df[pd.to_numeric(result_df[col], errors='coerce').notnull()]\n",
    "    n_values = len(value_cols)\n",
    "    half = n_values // 2\n",
    "    jobs_cols = value_cols[:half]\n",
    "    income_cols = value_cols[half:]\n",
    "\n",
    "    records = []\n",
    "    for _, row in result_df.iterrows():\n",
    "        if row[state_col] == \"Australia\":\n",
    "            feature = row[feature_col]\n",
    "            sex = row[sex_col]\n",
    "            for i, year in enumerate(jobs_cols):\n",
    "                records.append({\n",
    "                    'feature': feature,\n",
    "                    'year': year,\n",
    "                    'gender': sex,\n",
    "                    'number_of_jobs': float(row[year]) / 1000,\n",
    "                    'median_income': row[income_cols[i]]\n",
    "                })\n",
    "    return pd.DataFrame(records)\n",
    "\n"
   ]
  },
  {
   "cell_type": "code",
   "execution_count": 22,
   "id": "0b9cda11",
   "metadata": {},
   "outputs": [],
   "source": [
    "def save_csv_reader(df, feature_name):\n",
    "    filename = f\"{feature_name}_gender.csv\"\n",
    "    df.to_csv(f\"../../data/pre_transform/{filename}\", index=False)\n",
    "    print(f\"{feature_name} 已保存为 {filename}\")\n"
   ]
  },
  {
   "cell_type": "code",
   "execution_count": 23,
   "id": "dcc51173",
   "metadata": {},
   "outputs": [
    {
     "name": "stdout",
     "output_type": "stream",
     "text": [
      "Visa group 已保存为 Visa group_gender.csv\n"
     ]
    }
   ],
   "source": [
    "feature_name = 'Visa group'\n",
    "df_long = extract_feature_tables_auto(\n",
    "    '../../abs_raw_data/Table 17 - Migrants, Jobs and employment income by sex, state and territory, industry, and visa group, 2017-18 to 2021-22.xlsx',\n",
    "    sheet_name='Table 17',\n",
    "    skiprows=6,\n",
    "    feature_col=feature_name,\n",
    "    sex_col='Sex'\n",
    ")\n",
    "df_long = df_long[df_long['feature'] != 'Total'].reset_index(drop=True)\n",
    "save_csv_reader(df_long, feature_name)"
   ]
  },
  {
   "cell_type": "code",
   "execution_count": null,
   "id": "176e4588",
   "metadata": {},
   "outputs": [
    {
     "ename": "ValueError",
     "evalue": "'Job duration from T20' is not in list",
     "output_type": "error",
     "traceback": [
      "\u001b[1;31m---------------------------------------------------------------------------\u001b[0m",
      "\u001b[1;31mValueError\u001b[0m                                Traceback (most recent call last)",
      "Cell \u001b[1;32mIn[24], line 2\u001b[0m\n\u001b[0;32m      1\u001b[0m feature_name \u001b[38;5;241m=\u001b[39m \u001b[38;5;124m'\u001b[39m\u001b[38;5;124mJob duration from T20\u001b[39m\u001b[38;5;124m'\u001b[39m\n\u001b[1;32m----> 2\u001b[0m df_long \u001b[38;5;241m=\u001b[39m \u001b[43mextract_feature_tables_auto\u001b[49m\u001b[43m(\u001b[49m\n\u001b[0;32m      3\u001b[0m \u001b[43m    \u001b[49m\u001b[38;5;124;43m'\u001b[39;49m\u001b[38;5;124;43m../../abs_raw_data/Table 20 - Migrants, Jobs and employment income by arrival group, sex and job duration, 2017-18 to 2021-22.xlsx\u001b[39;49m\u001b[38;5;124;43m'\u001b[39;49m\u001b[43m,\u001b[49m\n\u001b[0;32m      4\u001b[0m \u001b[43m    \u001b[49m\u001b[43msheet_name\u001b[49m\u001b[38;5;241;43m=\u001b[39;49m\u001b[38;5;124;43m'\u001b[39;49m\u001b[38;5;124;43mTable 20\u001b[39;49m\u001b[38;5;124;43m'\u001b[39;49m\u001b[43m,\u001b[49m\n\u001b[0;32m      5\u001b[0m \u001b[43m    \u001b[49m\u001b[43mskiprows\u001b[49m\u001b[38;5;241;43m=\u001b[39;49m\u001b[38;5;241;43m6\u001b[39;49m\u001b[43m,\u001b[49m\n\u001b[0;32m      6\u001b[0m \u001b[43m    \u001b[49m\u001b[43mfeature_col\u001b[49m\u001b[38;5;241;43m=\u001b[39;49m\u001b[43mfeature_name\u001b[49m\u001b[43m,\u001b[49m\n\u001b[0;32m      7\u001b[0m \u001b[43m    \u001b[49m\u001b[43msex_col\u001b[49m\u001b[38;5;241;43m=\u001b[39;49m\u001b[38;5;124;43m'\u001b[39;49m\u001b[38;5;124;43mSex\u001b[39;49m\u001b[38;5;124;43m'\u001b[39;49m\n\u001b[0;32m      8\u001b[0m \u001b[43m)\u001b[49m\n\u001b[0;32m      9\u001b[0m df_long \u001b[38;5;241m=\u001b[39m df_long[df_long[\u001b[38;5;124m'\u001b[39m\u001b[38;5;124mfeature\u001b[39m\u001b[38;5;124m'\u001b[39m] \u001b[38;5;241m!=\u001b[39m \u001b[38;5;124m'\u001b[39m\u001b[38;5;124mTotal\u001b[39m\u001b[38;5;124m'\u001b[39m]\u001b[38;5;241m.\u001b[39mreset_index(drop\u001b[38;5;241m=\u001b[39m\u001b[38;5;28;01mTrue\u001b[39;00m)\n\u001b[0;32m     10\u001b[0m save_csv_reader(df_long, feature_name)\n",
      "Cell \u001b[1;32mIn[21], line 14\u001b[0m, in \u001b[0;36mextract_feature_tables_auto\u001b[1;34m(excel_path, sheet_name, skiprows, feature_col, sex_col)\u001b[0m\n\u001b[0;32m     12\u001b[0m \u001b[38;5;28;01mif\u001b[39;00m state_col \u001b[38;5;129;01mis\u001b[39;00m \u001b[38;5;28;01mNone\u001b[39;00m:\n\u001b[0;32m     13\u001b[0m     \u001b[38;5;28;01mraise\u001b[39;00m \u001b[38;5;167;01mValueError\u001b[39;00m(\u001b[38;5;124m\"\u001b[39m\u001b[38;5;124m未找到 State Name 或 State name 列\u001b[39m\u001b[38;5;124m\"\u001b[39m)\n\u001b[1;32m---> 14\u001b[0m class_idx \u001b[38;5;241m=\u001b[39m \u001b[43mcols\u001b[49m\u001b[38;5;241;43m.\u001b[39;49m\u001b[43mindex\u001b[49m\u001b[43m(\u001b[49m\u001b[43mfeature_col\u001b[49m\u001b[43m)\u001b[49m\n\u001b[0;32m     15\u001b[0m sex_idx \u001b[38;5;241m=\u001b[39m cols\u001b[38;5;241m.\u001b[39mindex(sex_col)\n\u001b[0;32m     16\u001b[0m value_cols \u001b[38;5;241m=\u001b[39m cols[\u001b[38;5;28mmax\u001b[39m(class_idx, sex_idx)\u001b[38;5;241m+\u001b[39m\u001b[38;5;241m1\u001b[39m:]\n",
      "\u001b[1;31mValueError\u001b[0m: 'Job duration from T20' is not in list"
     ]
    }
   ],
   "source": [
    "feature_name = 'Job duration'\n",
    "df_long = extract_feature_tables_auto(\n",
    "    '../../abs_raw_data/Table 20 - Migrants, Jobs and employment income by arrival group, sex and job duration, 2017-18 to 2021-22.xlsx',\n",
    "    sheet_name='Table 20',\n",
    "    skiprows=6,\n",
    "    feature_col=feature_name,\n",
    "    sex_col='Sex'\n",
    ")\n",
    "df_long = df_long[df_long['feature'] != 'Total'].reset_index(drop=True)\n",
    "save_csv_reader(df_long,  'Job duration from T20')\n"
   ]
  },
  {
   "cell_type": "code",
   "execution_count": null,
   "id": "5a1de07c",
   "metadata": {},
   "outputs": [
    {
     "name": "stdout",
     "output_type": "stream",
     "text": [
      "Business size 已保存为 Business size_gender.csv\n"
     ]
    }
   ],
   "source": [
    "feature_name = 'Business size'\n",
    "df_long = extract_feature_tables_auto(\n",
    "    '../../abs_raw_data/Table 21 - Migrants, Jobs and employment income by arrival group, sex and business employment size, 2017-18 to 2021-22.xlsx',\n",
    "    sheet_name='Table 21',\n",
    "    skiprows=6,\n",
    "    feature_col=feature_name,\n",
    "    sex_col='Sex'\n",
    ")\n",
    "df_long = df_long[df_long['feature'] != 'Total'].reset_index(drop=True)\n",
    "save_csv_reader(df_long, feature_name)\n"
   ]
  },
  {
   "cell_type": "code",
   "execution_count": null,
   "id": "cdb3b849",
   "metadata": {},
   "outputs": [
    {
     "name": "stdout",
     "output_type": "stream",
     "text": [
      "Arrival Group 已保存为 Arrival Group_gender.csv\n"
     ]
    }
   ],
   "source": [
    "feature_name = 'Visa group'\n",
    "df_long_arrival1 = extract_feature_tables_auto(\n",
    "    '../../abs_raw_data/Table 17 - Migrants, Jobs and employment income by sex, state and territory, industry, and visa group, 2017-18 to 2021-22.xlsx',\n",
    "    sheet_name='Table 17.1',\n",
    "    skiprows=6,\n",
    "    feature_col=feature_name,\n",
    "    sex_col='Sex'\n",
    ")\n",
    "df_long_arrival2 = extract_feature_tables_auto(\n",
    "    '../../abs_raw_data/Table 17 - Migrants, Jobs and employment income by sex, state and territory, industry, and visa group, 2017-18 to 2021-22.xlsx',\n",
    "    sheet_name='Table 17.2',\n",
    "    skiprows=6,\n",
    "    feature_col=feature_name,\n",
    "    sex_col='Sex'\n",
    ")\n",
    "df_long_arrival3 = extract_feature_tables_auto(\n",
    "    '../../abs_raw_data/Table 17 - Migrants, Jobs and employment income by sex, state and territory, industry, and visa group, 2017-18 to 2021-22.xlsx',\n",
    "    sheet_name='Table 17.3',\n",
    "    skiprows=6,\n",
    "    feature_col=feature_name,\n",
    "    sex_col='Sex'\n",
    ")\n",
    "arrival_len = ['0-5 years', '6-10 years', '11+ years']\n",
    "df_long_arrival1['feature'] = arrival_len[0]\n",
    "df_long_arrival2['feature'] = arrival_len[1]\n",
    "df_long_arrival3['feature'] = arrival_len[2]\n",
    "df_long = pd.concat([df_long_arrival1, df_long_arrival2, df_long_arrival3])\n",
    "save_csv_reader(df_long, \"Arrival Group\")"
   ]
  }
 ],
 "metadata": {
  "kernelspec": {
   "display_name": "base",
   "language": "python",
   "name": "python3"
  },
  "language_info": {
   "codemirror_mode": {
    "name": "ipython",
    "version": 3
   },
   "file_extension": ".py",
   "mimetype": "text/x-python",
   "name": "python",
   "nbconvert_exporter": "python",
   "pygments_lexer": "ipython3",
   "version": "3.10.9"
  }
 },
 "nbformat": 4,
 "nbformat_minor": 5
}
