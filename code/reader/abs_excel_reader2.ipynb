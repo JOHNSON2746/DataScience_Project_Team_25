{
 "cells": [
  {
   "cell_type": "markdown",
   "id": "22e818d0",
   "metadata": {},
   "source": [
    "note: 假设数值列从'Sex'之后开始"
   ]
  },
  {
   "cell_type": "code",
   "execution_count": null,
   "id": "9556567e",
   "metadata": {},
   "outputs": [],
   "source": [
    "import pandas as pd\n",
    "\n",
    "def extract_feature_tables_auto(excel_path, sheet_name=0, skiprows=6, feature_col='Feature', sex_col='Sex'):\n",
    "    df = pd.read_excel(excel_path, sheet_name=sheet_name, skiprows=skiprows)\n",
    "    # 自动检测数值列起始\n",
    "    cols = df.columns.tolist()\n",
    "    class_idx = cols.index(feature_col)\n",
    "    sex_idx = cols.index(sex_col)\n",
    "    value_cols = cols[max(class_idx, sex_idx)+1:]\n",
    "    selected_cols = [feature_col, sex_col] + value_cols\n",
    "    result_df = df[selected_cols].copy()\n",
    "    result_df = result_df.dropna(how='all').reset_index(drop=True)\n",
    "    for col in value_cols:\n",
    "        result_df = result_df[pd.to_numeric(result_df[col], errors='coerce').notnull()]\n",
    "        \n",
    "    n_values = len(value_cols)\n",
    "    half = n_values // 2\n",
    "    jobs_cols = value_cols[:half]\n",
    "    income_cols = value_cols[half:]\n",
    "\n",
    "    records = []\n",
    "    for _, row in result_df.iterrows():\n",
    "        feature = row[feature_col]\n",
    "        sex = row[sex_col]\n",
    "        for i, year in enumerate(jobs_cols):\n",
    "            records.append({\n",
    "                'feature': feature,\n",
    "                'year': year,\n",
    "                'gender': sex,\n",
    "                'number_of_jobs': float(row[year]) / 1000,\n",
    "                'median_income': row[income_cols[i]]\n",
    "            })\n",
    "    return pd.DataFrame(records)\n",
    "\n"
   ]
  },
  {
   "cell_type": "code",
   "execution_count": 25,
   "id": "0b9cda11",
   "metadata": {},
   "outputs": [],
   "source": [
    "def save_csv_reader(df, feature_name):\n",
    "    filename = f\"{feature_name}_gender.csv\"\n",
    "    df.to_csv(f\"../../data/transformed/{filename}\", index=False)\n",
    "    print(f\"{feature_name} 已保存为 {filename}\")\n"
   ]
  },
  {
   "cell_type": "code",
   "execution_count": 26,
   "id": "dcc51173",
   "metadata": {},
   "outputs": [
    {
     "name": "stdout",
     "output_type": "stream",
     "text": [
      "Visa group 已保存为 Visa group_gender.csv\n"
     ]
    }
   ],
   "source": [
    "feature_name = 'Visa group'\n",
    "df_long = extract_feature_tables_auto(\n",
    "    '../../abs_raw_data/Table 17 - Migrants, Jobs and employment income by sex, state and territory, industry, and visa group, 2017-18 to 2021-22.xlsx',\n",
    "    sheet_name='Table 17',\n",
    "    skiprows=6,\n",
    "    feature_col=feature_name,\n",
    "    sex_col='Sex'\n",
    ")\n",
    "df_long = df_long[df_long['feature'] != 'Total'].reset_index(drop=True)\n",
    "save_csv_reader(df_long, feature_name)"
   ]
  },
  {
   "cell_type": "code",
   "execution_count": 29,
   "id": "176e4588",
   "metadata": {},
   "outputs": [
    {
     "name": "stdout",
     "output_type": "stream",
     "text": [
      "Job duration 已保存为 Job duration_gender.csv\n"
     ]
    }
   ],
   "source": [
    "feature_name = 'Job duration'\n",
    "df_long = extract_feature_tables_auto(\n",
    "    '../../abs_raw_data/Table 20 - Migrants, Jobs and employment income by arrival group, sex and job duration, 2017-18 to 2021-22.xlsx',\n",
    "    sheet_name='Table 20',\n",
    "    skiprows=6,\n",
    "    feature_col=feature_name,\n",
    "    sex_col='Sex'\n",
    ")\n",
    "df_long = df_long[df_long['feature'] != 'Total'].reset_index(drop=True)\n",
    "save_csv_reader(df_long, feature_name)\n"
   ]
  },
  {
   "cell_type": "code",
   "execution_count": 30,
   "id": "5a1de07c",
   "metadata": {},
   "outputs": [
    {
     "name": "stdout",
     "output_type": "stream",
     "text": [
      "Business size 已保存为 Business size_gender.csv\n"
     ]
    }
   ],
   "source": [
    "feature_name = 'Business size'\n",
    "df_long = extract_feature_tables_auto(\n",
    "    '../../abs_raw_data/Table 21 - Migrants, Jobs and employment income by arrival group, sex and business employment size, 2017-18 to 2021-22.xlsx',\n",
    "    sheet_name='Table 21',\n",
    "    skiprows=6,\n",
    "    feature_col=feature_name,\n",
    "    sex_col='Sex'\n",
    ")\n",
    "df_long = df_long[df_long['feature'] != 'Total'].reset_index(drop=True)\n",
    "save_csv_reader(df_long, feature_name)\n"
   ]
  },
  {
   "cell_type": "code",
   "execution_count": 37,
   "id": "cdb3b849",
   "metadata": {},
   "outputs": [
    {
     "name": "stdout",
     "output_type": "stream",
     "text": [
      "Arrival Group 已保存为 Arrival Group_gender.csv\n"
     ]
    }
   ],
   "source": [
    "feature_name = 'Visa group'\n",
    "df_long_arrival1 = extract_feature_tables_auto(\n",
    "    '../../abs_raw_data/Table 17 - Migrants, Jobs and employment income by sex, state and territory, industry, and visa group, 2017-18 to 2021-22.xlsx',\n",
    "    sheet_name='Table 17.1',\n",
    "    skiprows=6,\n",
    "    feature_col=feature_name,\n",
    "    sex_col='Sex'\n",
    ")\n",
    "df_long_arrival2 = extract_feature_tables_auto(\n",
    "    '../../abs_raw_data/Table 17 - Migrants, Jobs and employment income by sex, state and territory, industry, and visa group, 2017-18 to 2021-22.xlsx',\n",
    "    sheet_name='Table 17.2',\n",
    "    skiprows=6,\n",
    "    feature_col=feature_name,\n",
    "    sex_col='Sex'\n",
    ")\n",
    "df_long_arrival3 = extract_feature_tables_auto(\n",
    "    '../../abs_raw_data/Table 17 - Migrants, Jobs and employment income by sex, state and territory, industry, and visa group, 2017-18 to 2021-22.xlsx',\n",
    "    sheet_name='Table 17.3',\n",
    "    skiprows=6,\n",
    "    feature_col=feature_name,\n",
    "    sex_col='Sex'\n",
    ")\n",
    "arrival_len = ['0-5 years', '6-10 years', '11+ years']\n",
    "df_long_arrival1['feature'] = arrival_len[0]\n",
    "df_long_arrival2['feature'] = arrival_len[1]\n",
    "df_long_arrival3['feature'] = arrival_len[2]\n",
    "df_long = pd.concat([df_long_arrival1, df_long_arrival2, df_long_arrival3])\n",
    "save_csv_reader(df_long, \"Arrival Group\")"
   ]
  }
 ],
 "metadata": {
  "kernelspec": {
   "display_name": "base",
   "language": "python",
   "name": "python3"
  },
  "language_info": {
   "codemirror_mode": {
    "name": "ipython",
    "version": 3
   },
   "file_extension": ".py",
   "mimetype": "text/x-python",
   "name": "python",
   "nbconvert_exporter": "python",
   "pygments_lexer": "ipython3",
   "version": "3.10.9"
  }
 },
 "nbformat": 4,
 "nbformat_minor": 5
}
