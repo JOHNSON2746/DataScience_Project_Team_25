{
 "cells": [
  {
   "cell_type": "markdown",
   "id": "22e818d0",
   "metadata": {},
   "source": [
    "## Migrants Jobs and Income Data Processing\n",
    "\n",
    "The following functions are mainly used to process employment and income data related to Australian migrants, specifically for handling ABS Tables 15, 17, 20, and 21. The main functionalities include:\n",
    "\n",
    "- Automatically extracting feature tables (such as visa group, job duration, business size, etc.) from Excel files, and performing data cleaning and transformation.\n",
    "- Organizing data by gender, feature, and year for subsequent analysis.\n",
    "- Saving the processed data as CSV files for further use.\n",
    "\n",
    "Main function descriptions:\n",
    "\n",
    "- `extract_feature_tables_auto`: Automatically extracts required features from the specified Excel table and converts them to long-format tables.\n",
    "- `save_csv_reader`: Saves the processed DataFrame as a CSV file.\n",
    "\n",
    "Each data processing unit corresponds to a different feature (such as visa group, job duration, business size, etc.), and is saved as a corresponding CSV file.\n"
   ]
  },
  {
   "cell_type": "code",
   "execution_count": 1,
   "id": "9556567e",
   "metadata": {},
   "outputs": [],
   "source": [
    "import pandas as pd\n",
    "\n",
    "def extract_feature_tables_auto(excel_path, sheet_name=0, skiprows=6, feature_col='Feature', sex_col='Sex'):\n",
    "    df = pd.read_excel(excel_path, sheet_name=sheet_name, skiprows=skiprows)\n",
    "    cols = df.columns.tolist()\n",
    "    state_col = None\n",
    "    for candidate in [\"State Name\", \"State name\"]:\n",
    "        if candidate in cols:\n",
    "            state_col = candidate\n",
    "            break\n",
    "    if state_col is None:\n",
    "        raise ValueError(\"No col named State Name, or State name\")\n",
    "    class_idx = cols.index(feature_col)\n",
    "    sex_idx = cols.index(sex_col)\n",
    "    value_cols = cols[max(class_idx, sex_idx)+1:]\n",
    "    selected_cols = [feature_col, sex_col, state_col] + value_cols\n",
    "    result_df = df[selected_cols].copy()\n",
    "    result_df = result_df.dropna(how='all').reset_index(drop=True)\n",
    "    for col in value_cols:\n",
    "        result_df = result_df[pd.to_numeric(result_df[col], errors='coerce').notnull()]\n",
    "    n_values = len(value_cols)\n",
    "    half = n_values // 2\n",
    "    jobs_cols = value_cols[:half]\n",
    "    income_cols = value_cols[half:]\n",
    "\n",
    "    records = []\n",
    "    for _, row in result_df.iterrows():\n",
    "        if row[state_col] == \"Australia\":\n",
    "            feature = row[feature_col]\n",
    "            sex = row[sex_col]\n",
    "            for i, year in enumerate(jobs_cols):\n",
    "                records.append({\n",
    "                    'feature': feature,\n",
    "                    'year': year,\n",
    "                    'gender': sex,\n",
    "                    'number_of_jobs': float(row[year]) / 1000,\n",
    "                    'median_income': row[income_cols[i]]\n",
    "                })\n",
    "    return pd.DataFrame(records)\n",
    "\n"
   ]
  },
  {
   "cell_type": "code",
   "execution_count": 2,
   "id": "0b9cda11",
   "metadata": {},
   "outputs": [],
   "source": [
    "def save_csv_reader(df, feature_name):\n",
    "    filename = f\"{feature_name}_gender.csv\"\n",
    "    df.to_csv(f\"../../data/pre_transform/{filename}\", index=False)\n",
    "    print(f\"{feature_name} saved as {filename}\")\n"
   ]
  },
  {
   "cell_type": "code",
   "execution_count": 3,
   "id": "dcc51173",
   "metadata": {},
   "outputs": [
    {
     "name": "stdout",
     "output_type": "stream",
     "text": [
      "Visa group saved as Visa group_gender.csv\n"
     ]
    }
   ],
   "source": [
    "feature_name = 'Visa group'\n",
    "df_long = extract_feature_tables_auto(\n",
    "    '../../abs_raw_data/Table 17 - Migrants, Jobs and employment income by sex, state and territory, industry, and visa group, 2017-18 to 2021-22.xlsx',\n",
    "    sheet_name='Table 17',\n",
    "    skiprows=6,\n",
    "    feature_col=feature_name,\n",
    "    sex_col='Sex'\n",
    ")\n",
    "df_long = df_long[df_long['feature'] != 'Total'].reset_index(drop=True)\n",
    "save_csv_reader(df_long, feature_name)"
   ]
  },
  {
   "cell_type": "code",
   "execution_count": 4,
   "id": "176e4588",
   "metadata": {},
   "outputs": [
    {
     "name": "stdout",
     "output_type": "stream",
     "text": [
      "Job duration from T20 saved as Job duration from T20_gender.csv\n"
     ]
    }
   ],
   "source": [
    "feature_name = 'Job duration'\n",
    "df_long = extract_feature_tables_auto(\n",
    "    '../../abs_raw_data/Table 20 - Migrants, Jobs and employment income by arrival group, sex and job duration, 2017-18 to 2021-22.xlsx',\n",
    "    sheet_name='Table 20',\n",
    "    skiprows=6,\n",
    "    feature_col=feature_name,\n",
    "    sex_col='Sex'\n",
    ")\n",
    "df_long = df_long[df_long['feature'] != 'Total'].reset_index(drop=True)\n",
    "save_csv_reader(df_long,  'Job duration from T20')\n"
   ]
  },
  {
   "cell_type": "code",
   "execution_count": 5,
   "id": "5a1de07c",
   "metadata": {},
   "outputs": [
    {
     "name": "stdout",
     "output_type": "stream",
     "text": [
      "Business size saved as Business size_gender.csv\n"
     ]
    }
   ],
   "source": [
    "feature_name = 'Business size'\n",
    "df_long = extract_feature_tables_auto(\n",
    "    '../../abs_raw_data/Table 21 - Migrants, Jobs and employment income by arrival group, sex and business employment size, 2017-18 to 2021-22.xlsx',\n",
    "    sheet_name='Table 21',\n",
    "    skiprows=6,\n",
    "    feature_col=feature_name,\n",
    "    sex_col='Sex'\n",
    ")\n",
    "df_long = df_long[df_long['feature'] != 'Total'].reset_index(drop=True)\n",
    "save_csv_reader(df_long, feature_name)\n"
   ]
  },
  {
   "cell_type": "code",
   "execution_count": 6,
   "id": "cdb3b849",
   "metadata": {},
   "outputs": [
    {
     "name": "stdout",
     "output_type": "stream",
     "text": [
      "Arrival Group saved as Arrival Group_gender.csv\n"
     ]
    }
   ],
   "source": [
    "feature_name = 'Visa group'\n",
    "df_long_arrival1 = extract_feature_tables_auto(\n",
    "    '../../abs_raw_data/Table 17 - Migrants, Jobs and employment income by sex, state and territory, industry, and visa group, 2017-18 to 2021-22.xlsx',\n",
    "    sheet_name='Table 17.1',\n",
    "    skiprows=6,\n",
    "    feature_col=feature_name,\n",
    "    sex_col='Sex'\n",
    ")\n",
    "df_long_arrival2 = extract_feature_tables_auto(\n",
    "    '../../abs_raw_data/Table 17 - Migrants, Jobs and employment income by sex, state and territory, industry, and visa group, 2017-18 to 2021-22.xlsx',\n",
    "    sheet_name='Table 17.2',\n",
    "    skiprows=6,\n",
    "    feature_col=feature_name,\n",
    "    sex_col='Sex'\n",
    ")\n",
    "df_long_arrival3 = extract_feature_tables_auto(\n",
    "    '../../abs_raw_data/Table 17 - Migrants, Jobs and employment income by sex, state and territory, industry, and visa group, 2017-18 to 2021-22.xlsx',\n",
    "    sheet_name='Table 17.3',\n",
    "    skiprows=6,\n",
    "    feature_col=feature_name,\n",
    "    sex_col='Sex'\n",
    ")\n",
    "arrival_len = ['0-5 years', '6-10 years', '11+ years']\n",
    "df_long_arrival1['feature'] = arrival_len[0]\n",
    "df_long_arrival2['feature'] = arrival_len[1]\n",
    "df_long_arrival3['feature'] = arrival_len[2]\n",
    "df_long = pd.concat([df_long_arrival1, df_long_arrival2, df_long_arrival3])\n",
    "save_csv_reader(df_long, \"Arrival Group\")"
   ]
  }
 ],
 "metadata": {
  "kernelspec": {
   "display_name": "base",
   "language": "python",
   "name": "python3"
  },
  "language_info": {
   "codemirror_mode": {
    "name": "ipython",
    "version": 3
   },
   "file_extension": ".py",
   "mimetype": "text/x-python",
   "name": "python",
   "nbconvert_exporter": "python",
   "pygments_lexer": "ipython3",
   "version": "3.10.9"
  }
 },
 "nbformat": 4,
 "nbformat_minor": 5
}
