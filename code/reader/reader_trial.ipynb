{
 "cells": [
  {
   "cell_type": "markdown",
   "id": "cbef6756",
   "metadata": {},
   "source": [
    "Meaningful tables:\n",
    "table1\n",
    "table3 industry & median income -> var income\n",
    "table17 sex, state and territory, industry, and visa group"
   ]
  },
  {
   "cell_type": "code",
   "execution_count": null,
   "id": "65a715f1",
   "metadata": {},
   "outputs": [],
   "source": [
    "import json\n",
    "\n",
    "# feature_rows = {\n",
    "#     \"Age group\": 17,\n",
    "#     \"Industry\": 19,\n",
    "#     \"Institutional sector\": 5,\n",
    "#     \"Type of legal organisation\": 3,\n",
    "#     \"Employment size\": 4,\n",
    "#     \"Job duration\": 4\n",
    "# }\n",
    "\n",
    "# with open(\"feature_rows.json\", \"w\", encoding=\"utf-8\") as f:\n",
    "#     json.dump(feature_rows, f, ensure_ascii=False, indent=4)"
   ]
  },
  {
   "cell_type": "code",
   "execution_count": null,
   "id": "c56fb005",
   "metadata": {},
   "outputs": [
    {
     "name": "stdout",
     "output_type": "stream",
     "text": [
      "Age group 已保存为 Age group_gender.csv\n",
      "Industry 已保存为 Industry_gender.csv\n",
      "Institutional sector 已保存为 Institutional sector_gender.csv\n",
      "Type of legal organisation 已保存为 Type of legal organisation_gender.csv\n",
      "Employment size 已保存为 Employment size_gender.csv\n",
      "Job duration 已保存为 Job duration_gender.csv\n"
     ]
    }
   ],
   "source": [
    "import pandas as pd\n",
    "import json\n",
    "\n",
    "def read_feature_rows(json_path):\n",
    "    with open(json_path, 'r', encoding='utf-8') as f:\n",
    "        return json.load(f)\n",
    "    \n",
    "def fill_gender(genders):\n",
    "    return pd.Series(genders).fillna(method='ffill').tolist()\n",
    "\n",
    "def extract_feature_tables(excel_path, feature_rows_path, sheet_name=0):\n",
    "    feature_rows = read_feature_rows(feature_rows_path)\n",
    "    df = pd.read_excel(excel_path, sheet_name=sheet_name, header=None)\n",
    "    genders = df.iloc[6, 2:].tolist()\n",
    "    genders = fill_gender(genders)\n",
    "    years = df.iloc[7, 2:].tolist()\n",
    "    data_start_col = 2\n",
    "    group_width = 5\n",
    "    feature_start_row = 9\n",
    "    feature_tables = {}\n",
    "\n",
    "    for feature, row_count in feature_rows.items():\n",
    "        feature_data = df.iloc[feature_start_row:feature_start_row+row_count, :]\n",
    "        class_names = feature_data.iloc[:, 0].values.tolist()\n",
    "        values = feature_data.iloc[:, data_start_col:].values\n",
    "        records = []\n",
    "        for i_class in range(row_count):\n",
    "            class_name = class_names[i_class]\n",
    "            noj = values[i_class, :15]\n",
    "            mincome = values[i_class, 15:30]\n",
    "            for idx in range(15):\n",
    "                year = years[idx]\n",
    "                gender = genders[idx]\n",
    "                records.append({\n",
    "                    'feature': class_name,\n",
    "                    'year': year,\n",
    "                    'gender': gender,\n",
    "                    'number_of_jobs': noj[idx],\n",
    "                    'median_income': mincome[idx]\n",
    "                })\n",
    "        feature_tables[feature] = pd.DataFrame(records)\n",
    "        feature_start_row += row_count\n",
    "\n",
    "    return feature_tables\n",
    "\n",
    "# 用法示例\n",
    "# To modify raw data path\n",
    "# tables = extract_feature_tables(\"test_data/Table1_test.xlsx\", \"feature_rows.json\", \"Table 1.1\")\n",
    "# for feature, df in tables.items():\n",
    "#     filename = f\"{feature}_gender.csv\"\n",
    "#     df.to_csv(f\"test_result/{filename}\", index=False)\n",
    "#     print(f\"{feature} 已保存为 {filename}\")"
   ]
  }
 ],
 "metadata": {
  "kernelspec": {
   "display_name": "base",
   "language": "python",
   "name": "python3"
  },
  "language_info": {
   "codemirror_mode": {
    "name": "ipython",
    "version": 3
   },
   "file_extension": ".py",
   "mimetype": "text/x-python",
   "name": "python",
   "nbconvert_exporter": "python",
   "pygments_lexer": "ipython3",
   "version": "3.10.9"
  }
 },
 "nbformat": 4,
 "nbformat_minor": 5
}
