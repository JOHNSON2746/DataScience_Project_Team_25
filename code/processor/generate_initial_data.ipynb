{
 "cells": [
  {
   "cell_type": "code",
   "execution_count": null,
   "id": "7ad5dea3",
   "metadata": {},
   "outputs": [],
   "source": [
    "import pandas as pd\n",
    "\n",
    "# 读取数据\n",
    "csv_path = r\"E:\\git\\DataScience_Project_Team_25\\data\\pre_transform\\Age group_gender.csv\"\n",
    "df = pd.read_csv(csv_path)\n",
    "\n",
    "# 以 'feature' 为例，统计概率分布和加权平均收入\n",
    "group_col = 'feature'\n",
    "weight_col = 'number_of_jobs'\n",
    "income_col = 'median_income'\n",
    "\n",
    "# 概率分布\n",
    "prob = df.groupby(group_col)[weight_col].sum()\n",
    "prob = prob / prob.sum()\n",
    "\n",
    "# 加权平均收入\n",
    "def weighted_mean(x):\n",
    "    return (x[weight_col] * x[income_col]).sum() / x[weight_col].sum()\n",
    "\n",
    "mean_income = df.groupby(group_col).apply(weighted_mean)\n",
    "\n",
    "# 合并结果\n",
    "stats = pd.DataFrame({\n",
    "    'prob': prob,\n",
    "    'mean_income': mean_income\n",
    "})\n",
    "\n",
    "print(stats)"
   ]
  },
  {
   "cell_type": "code",
   "execution_count": null,
   "id": "275ddd13",
   "metadata": {},
   "outputs": [],
   "source": [
    "import pandas as pd\n",
    "\n",
    "def extract_feature_tables_auto(excel_path, sheet_name=0, skiprows=6, feature_col='Feature', sex_col='Sex'):\n",
    "    df = pd.read_excel(excel_path, sheet_name=sheet_name, skiprows=skiprows)\n",
    "    cols = df.columns.tolist()\n",
    "    class_idx = cols.index(feature_col)\n",
    "    sex_idx = cols.index(sex_col)\n",
    "    value_cols = cols[max(class_idx, sex_idx)+1:]\n",
    "    selected_cols = [feature_col, sex_col, \"State Name\"] + value_cols\n",
    "    result_df = df[selected_cols].copy()\n",
    "    result_df = result_df.dropna(how='all').reset_index(drop=True)\n",
    "    for col in value_cols:\n",
    "        result_df = result_df[pd.to_numeric(result_df[col], errors='coerce').notnull()]\n",
    "    n_values = len(value_cols)\n",
    "    half = n_values // 2\n",
    "    jobs_cols = value_cols[:half]\n",
    "    income_cols = value_cols[half:]\n",
    "\n",
    "    records = []\n",
    "    for _, row in result_df.iterrows():\n",
    "        if row[\"State Name\"] == \"Australia\":\n",
    "            feature = row[feature_col]\n",
    "            sex = row[sex_col]\n",
    "            for i, year in enumerate(jobs_cols):\n",
    "                records.append({\n",
    "                    'feature': feature,\n",
    "                    'year': year,\n",
    "                    'gender': sex,\n",
    "                    'number_of_jobs': float(row[year]) / 1000,\n",
    "                    'median_income': row[income_cols[i]]\n",
    "                })\n",
    "    return pd.DataFrame(records)"
   ]
  }
 ],
 "metadata": {
  "language_info": {
   "name": "python"
  }
 },
 "nbformat": 4,
 "nbformat_minor": 5
}
